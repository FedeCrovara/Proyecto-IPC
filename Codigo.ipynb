{
  "nbformat": 4,
  "nbformat_minor": 0,
  "metadata": {
    "colab": {
      "provenance": [],
      "mount_file_id": "1jjhKpIllciH2d3yEo8rFW4Y40CWxLPz_",
      "authorship_tag": "ABX9TyOSttO1MkD9oSBo+dE67OqK"
    },
    "kernelspec": {
      "name": "python3",
      "display_name": "Python 3"
    },
    "language_info": {
      "name": "python"
    }
  },
  "cells": [
    {
      "cell_type": "code",
      "source": [],
      "metadata": {
        "id": "fpmS0oZsvSyX"
      },
      "execution_count": null,
      "outputs": []
    }
  ]
}