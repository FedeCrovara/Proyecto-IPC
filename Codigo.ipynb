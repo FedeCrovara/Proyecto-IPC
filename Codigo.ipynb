{
  "nbformat": 4,
  "nbformat_minor": 0,
  "metadata": {
    "colab": {
      "provenance": [],
      "mount_file_id": "1jjhKpIllciH2d3yEo8rFW4Y40CWxLPz_",
      "authorship_tag": "ABX9TyNLbnXC10BCLhZXfS0L9Lu8"
    },
    "kernelspec": {
      "name": "python3",
      "display_name": "Python 3"
    },
    "language_info": {
      "name": "python"
    }
  },
  "cells": [
    {
      "cell_type": "code",
      "source": [
        "#Hola"
      ],
      "metadata": {
        "id": "fpmS0oZsvSyX"
      },
      "execution_count": null,
      "outputs": []
    }
  ]
}